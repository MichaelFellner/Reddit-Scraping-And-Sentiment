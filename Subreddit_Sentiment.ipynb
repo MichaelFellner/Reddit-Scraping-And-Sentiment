{
 "cells": [
  {
   "cell_type": "code",
   "execution_count": 426,
   "id": "micro-creature",
   "metadata": {},
   "outputs": [],
   "source": [
    "import requests\n",
    "from bs4 import BeautifulSoup\n",
    "import re\n",
    "import time\n",
    "import numpy as np\n",
    "import json\n",
    "import pandas as pd\n",
    "import os"
   ]
  },
  {
   "cell_type": "markdown",
   "id": "elegant-delivery",
   "metadata": {},
   "source": [
    "<h1> Part 1: Scraping Data </h1>"
   ]
  },
  {
   "cell_type": "code",
   "execution_count": 427,
   "id": "dedicated-chess",
   "metadata": {},
   "outputs": [],
   "source": [
    "def get_next_href(soup):\n",
    "    match = ''\n",
    "    for i in soup.find_all('a'):\n",
    "        try:\n",
    "            if 'https://old.reddit.com/r/all/?count=' in i['href']:\n",
    "                match = i['href']\n",
    "        except:\n",
    "            pass #in case there's an a tag without an href\n",
    "    return match"
   ]
  },
  {
   "cell_type": "code",
   "execution_count": 428,
   "id": "serious-friendship",
   "metadata": {},
   "outputs": [],
   "source": [
    "def get_top_subreddits():\n",
    "    top_subreddits = []\n",
    "    a = 0\n",
    "    url = ''\n",
    "    while len(top_subreddits)<50:\n",
    "        if a == 0:\n",
    "            url = 'https://old.reddit.com/r/all/'\n",
    "        html = requests.get(url,headers = {'User-agent': 'your bot 0.1'})\n",
    "        soup = BeautifulSoup(html.text)\n",
    "        titles = soup.find_all('a',class_='subreddit hover may-blank')\n",
    "        for i in titles:\n",
    "            if i.text not in top_subreddits:\n",
    "                top_subreddits.append(i.text)\n",
    "            if len(top_subreddits) == 50:\n",
    "                break\n",
    "        url = get_next_href(soup)\n",
    "        a +=1\n",
    "        time.sleep(3)\n",
    "    return top_subreddits\n",
    "\n",
    "##Can improve this by ranking repeated subreddits higher"
   ]
  },
  {
   "cell_type": "code",
   "execution_count": 429,
   "id": "floating-judge",
   "metadata": {},
   "outputs": [],
   "source": [
    "top_subreddits = get_top_subreddits()"
   ]
  },
  {
   "cell_type": "code",
   "execution_count": 430,
   "id": "affected-hunter",
   "metadata": {},
   "outputs": [
    {
     "data": {
      "text/plain": [
       "50"
      ]
     },
     "execution_count": 430,
     "metadata": {},
     "output_type": "execute_result"
    }
   ],
   "source": [
    "len(top_subreddits)"
   ]
  },
  {
   "cell_type": "code",
   "execution_count": 431,
   "id": "protective-collection",
   "metadata": {},
   "outputs": [],
   "source": [
    "def get_5_posts(url):\n",
    "    sub_urls = [] #urls of top 5 posts\n",
    "    html = requests.get(url,headers = {'User-agent': 'your bot 0.1'})\n",
    "    soup = BeautifulSoup(html.text)\n",
    "    for i in range(5):\n",
    "        sub_urls.append(soup.select('.first')[i].find('a')['href'])\n",
    "    return sub_urls"
   ]
  },
  {
   "cell_type": "code",
   "execution_count": 432,
   "id": "material-snowboard",
   "metadata": {},
   "outputs": [],
   "source": [
    "subreddit_dict = {}\n",
    "for i in top_subreddits:\n",
    "    subreddit_dict[i] = {'urls':get_5_posts('https://old.reddit.com/' + i)}"
   ]
  },
  {
   "cell_type": "code",
   "execution_count": 433,
   "id": "infrared-shade",
   "metadata": {},
   "outputs": [],
   "source": [
    "stop_phrases = ['[removed]','r/','www.']"
   ]
  },
  {
   "cell_type": "code",
   "execution_count": 434,
   "id": "changing-stocks",
   "metadata": {},
   "outputs": [],
   "source": [
    "def get_comment_sample_text(url):\n",
    "    html = requests.get(url,headers = {'User-agent': 'your bot 0.1'})\n",
    "    soup = BeautifulSoup(html.text)\n",
    "    html_text = soup.select('.md > p') #.md is the reddit class containing comments\n",
    "    all_text = []\n",
    "    for i in html_text[15:]:\n",
    "        safe = True\n",
    "        for phrase in stop_phrases:\n",
    "            if phrase in i.text:\n",
    "                safe = False\n",
    "        if safe:\n",
    "            all_text.append(i.text)\n",
    "    return all_text"
   ]
  },
  {
   "cell_type": "code",
   "execution_count": 435,
   "id": "potential-closing",
   "metadata": {},
   "outputs": [],
   "source": [
    "for i in subreddit_dict.keys():\n",
    "    subreddit_dict[i]['text'] = []\n",
    "    for url in subreddit_dict[i]['urls']:\n",
    "        subreddit_dict[i]['text'] += get_comment_sample_text(url)"
   ]
  },
  {
   "cell_type": "code",
   "execution_count": 436,
   "id": "informed-chester",
   "metadata": {},
   "outputs": [],
   "source": [
    "def new_json_dir():\n",
    "    count = 0\n",
    "    for d in os.listdir():\n",
    "        if 'json' in d:\n",
    "            count +=1\n",
    "    return 'json'+str(count)"
   ]
  },
  {
   "cell_type": "code",
   "execution_count": 437,
   "id": "secret-database",
   "metadata": {
    "scrolled": true
   },
   "outputs": [],
   "source": [
    "def save_dict_to_json():\n",
    "    json_dir = new_json_dir()\n",
    "    os.mkdir(json_dir)\n",
    "    with open(json_dir+'/test.json','w') as f:\n",
    "        json.dump(subreddit_dict,f)"
   ]
  },
  {
   "cell_type": "code",
   "execution_count": 438,
   "id": "choice-projection",
   "metadata": {},
   "outputs": [],
   "source": [
    "save_dict_to_json()"
   ]
  },
  {
   "cell_type": "markdown",
   "id": "verbal-hostel",
   "metadata": {},
   "source": [
    "<h1>Part 2: Sentiment Analysis </h1>"
   ]
  },
  {
   "cell_type": "code",
   "execution_count": 439,
   "id": "charitable-yahoo",
   "metadata": {},
   "outputs": [],
   "source": [
    "from vaderSentiment.vaderSentiment import SentimentIntensityAnalyzer"
   ]
  },
  {
   "cell_type": "code",
   "execution_count": 440,
   "id": "attended-sailing",
   "metadata": {},
   "outputs": [],
   "source": [
    "sa = SentimentIntensityAnalyzer()\n",
    "def make_big_string(arr):\n",
    "    testtext= ''\n",
    "    for i in arr:\n",
    "        testtext += i\n",
    "        testtext += ' '\n",
    "    return testtext"
   ]
  },
  {
   "cell_type": "code",
   "execution_count": 441,
   "id": "residential-isaac",
   "metadata": {},
   "outputs": [],
   "source": [
    "for i in subreddit_dict.keys():\n",
    "    subreddit_dict[i]['polarity_scores'] = sa.polarity_scores(make_big_string(subreddit_dict[i]['text']))"
   ]
  },
  {
   "cell_type": "code",
   "execution_count": 442,
   "id": "active-guyana",
   "metadata": {},
   "outputs": [],
   "source": [
    "for i in subreddit_dict.keys():\n",
    "    subreddit_dict[i]['polarity_scores']['pos_minus_neg'] = \\\n",
    "    round(subreddit_dict[i]['polarity_scores']['pos'] - subreddit_dict[i]['polarity_scores']['neg'],2)"
   ]
  },
  {
   "cell_type": "code",
   "execution_count": 443,
   "id": "friendly-prototype",
   "metadata": {},
   "outputs": [],
   "source": [
    "def summary_statistics():\n",
    "    list_keys = list(subreddit_dict.keys())\n",
    "    first = list_keys[0]\n",
    "    init = subreddit_dict[first]['polarity_scores']\n",
    "    sum_stats = {'highest pos':[first, init['pos']],\n",
    "                 'highest neg' : [first,init['neg']],\n",
    "                 'highest neu': [first,init['neu']],\n",
    "                 'highest pos_minus_neg': [first,init['pos_minus_neg']],\n",
    "                 'lowest pos': [first,init['pos']],\n",
    "                 'lowest neg': [first,init['neg']],\n",
    "                 'lowest neu':[first,init['neu']],\n",
    "                 'lowest pos_minus_neg': [first,init['pos_minus_neg']]}\n",
    "    for key in list_keys[1:]:\n",
    "        for i in sum_stats.keys():\n",
    "            if 'highest' in i:\n",
    "                if subreddit_dict[key]['polarity_scores'][i[8:]] > sum_stats[i][1]:\n",
    "                    sum_stats[i][1] = subreddit_dict[key]['polarity_scores'][i[8:]]\n",
    "                    sum_stats[i][0] = key\n",
    "            elif 'lowest' in i:\n",
    "                if subreddit_dict[key]['polarity_scores'][i[7:]] < sum_stats[i][1]:\n",
    "                    sum_stats[i][1] = subreddit_dict[key]['polarity_scores'][i[7:]]\n",
    "                    sum_stats[i][0] = key\n",
    "    print(sum_stats)"
   ]
  },
  {
   "cell_type": "code",
   "execution_count": 444,
   "id": "consecutive-disney",
   "metadata": {},
   "outputs": [
    {
     "name": "stdout",
     "output_type": "stream",
     "text": [
      "{'highest pos': ['r/AnimalCrossing', 0.374], 'highest neg': ['r/NoahGetTheBoat', 0.213], 'highest neu': ['r/funny', 0.788], 'highest pos_minus_neg': ['r/AnimalCrossing', 0.33], 'lowest pos': ['r/libertarianmeme', 0.1], 'lowest neg': ['r/AnimalCrossing', 0.044], 'lowest neu': ['r/AnimalCrossing', 0.582], 'lowest pos_minus_neg': ['r/NoahGetTheBoat', -0.1]}\n"
     ]
    }
   ],
   "source": [
    "summary_statistics()"
   ]
  },
  {
   "cell_type": "code",
   "execution_count": 445,
   "id": "included-wayne",
   "metadata": {},
   "outputs": [],
   "source": [
    "to_df = []\n",
    "for i in subreddit_dict.keys():\n",
    "    to_append = []\n",
    "    to_append.append(i)\n",
    "    for stat in subreddit_dict[i]['polarity_scores']:\n",
    "        to_append.append(subreddit_dict[i]['polarity_scores'][stat])\n",
    "    to_df.append(to_append)\n"
   ]
  },
  {
   "cell_type": "code",
   "execution_count": 446,
   "id": "fresh-courage",
   "metadata": {},
   "outputs": [],
   "source": [
    "scores_df = pd.DataFrame(to_df,columns=['Subreddit','Neg','Neu','Pos','Compound','Pos Minus Neg'])"
   ]
  },
  {
   "cell_type": "code",
   "execution_count": 447,
   "id": "looking-supplier",
   "metadata": {},
   "outputs": [],
   "source": [
    "scores_df = scores_df.drop('Compound',axis=1)"
   ]
  },
  {
   "cell_type": "code",
   "execution_count": 448,
   "id": "opposed-charter",
   "metadata": {},
   "outputs": [],
   "source": [
    "scores_df['date_created'] = pd.to_datetime('now')"
   ]
  },
  {
   "cell_type": "code",
   "execution_count": 449,
   "id": "moral-identity",
   "metadata": {},
   "outputs": [
    {
     "ename": "FileExistsError",
     "evalue": "[WinError 183] Cannot create a file when that file already exists: 'scores'",
     "output_type": "error",
     "traceback": [
      "\u001b[1;31m---------------------------------------------------------------------------\u001b[0m",
      "\u001b[1;31mFileExistsError\u001b[0m                           Traceback (most recent call last)",
      "\u001b[1;32m<ipython-input-449-e2f586887a7c>\u001b[0m in \u001b[0;36m<module>\u001b[1;34m\u001b[0m\n\u001b[1;32m----> 1\u001b[1;33m \u001b[0mos\u001b[0m\u001b[1;33m.\u001b[0m\u001b[0mmkdir\u001b[0m\u001b[1;33m(\u001b[0m\u001b[1;34m'scores'\u001b[0m\u001b[1;33m)\u001b[0m\u001b[1;33m\u001b[0m\u001b[1;33m\u001b[0m\u001b[0m\n\u001b[0m",
      "\u001b[1;31mFileExistsError\u001b[0m: [WinError 183] Cannot create a file when that file already exists: 'scores'"
     ]
    }
   ],
   "source": []
  },
  {
   "cell_type": "code",
   "execution_count": 450,
   "id": "straight-minnesota",
   "metadata": {},
   "outputs": [],
   "source": [
    "def get_unique_name():\n",
    "    return 'unique_name' + str(len(os.listdir('scores'))) + '.csv'\n",
    "def save_df(df):\n",
    "    if 'scores' not in os.listdir():\n",
    "        os.mkdir('scores')\n",
    "    df.to_csv('scores/' + get_unique_name())"
   ]
  },
  {
   "cell_type": "code",
   "execution_count": 451,
   "id": "accessible-genealogy",
   "metadata": {},
   "outputs": [],
   "source": [
    "save_df(scores_df)"
   ]
  },
  {
   "cell_type": "markdown",
   "id": "still-cursor",
   "metadata": {},
   "source": [
    "<h1>Part 3: Analysis and Visualizations </h1>"
   ]
  },
  {
   "cell_type": "code",
   "execution_count": 452,
   "id": "sensitive-chester",
   "metadata": {},
   "outputs": [
    {
     "data": {
      "text/plain": [
       "<AxesSubplot:ylabel='Subreddit'>"
      ]
     },
     "execution_count": 452,
     "metadata": {},
     "output_type": "execute_result"
    },
    {
     "data": {
      "image/png": "[encoded data removed]",
      "text/plain": [
       "<Figure size 432x288 with 1 Axes>"
      ]
     },
     "metadata": {
      "needs_background": "light"
     },
     "output_type": "display_data"
    }
   ],
   "source": [
    "scores_df.iloc[0:9].plot.barh(x='Subreddit',y='Pos Minus Neg')"
   ]
  },
  {
   "cell_type": "code",
   "execution_count": 453,
   "id": "minute-terminal",
   "metadata": {},
   "outputs": [
    {
     "data": {
      "text/plain": [
       "<AxesSubplot:ylabel='Subreddit'>"
      ]
     },
     "execution_count": 453,
     "metadata": {},
     "output_type": "execute_result"
    },
    {
     "data": {
      "image/png": "[encoded data removed]",
      "text/plain": [
       "<Figure size 432x288 with 1 Axes>"
      ]
     },
     "metadata": {
      "needs_background": "light"
     },
     "output_type": "display_data"
    }
   ],
   "source": [
    "scores_df.iloc[0:9].plot.barh(x='Subreddit',y='Pos')"
   ]
  },
  {
   "cell_type": "code",
   "execution_count": 454,
   "id": "loose-philadelphia",
   "metadata": {},
   "outputs": [
    {
     "data": {
      "text/plain": [
       "<AxesSubplot:ylabel='Subreddit'>"
      ]
     },
     "execution_count": 454,
     "metadata": {},
     "output_type": "execute_result"
    },
    {
     "data": {
      "image/png": "[encoded data removed]",
      "text/plain": [
       "<Figure size 432x288 with 1 Axes>"
      ]
     },
     "metadata": {
      "needs_background": "light"
     },
     "output_type": "display_data"
    }
   ],
   "source": [
    "scores_df.iloc[0:9].plot.barh(x='Subreddit',y='Neg')"
   ]
  },
  {
   "cell_type": "code",
   "execution_count": null,
   "id": "preliminary-bracelet",
   "metadata": {},
   "outputs": [],
   "source": []
  }
 ],
 "metadata": {
  "kernelspec": {
   "display_name": "Python 3",
   "language": "python",
   "name": "python3"
  },
  "language_info": {
   "codemirror_mode": {
    "name": "ipython",
    "version": 3
   },
   "file_extension": ".py",
   "mimetype": "text/x-python",
   "name": "python",
   "nbconvert_exporter": "python",
   "pygments_lexer": "ipython3",
   "version": "3.8.4"
  }
 },
 "nbformat": 4,
 "nbformat_minor": 5
}
